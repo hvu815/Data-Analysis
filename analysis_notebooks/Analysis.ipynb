{
 "cells": [
  {
   "cell_type": "markdown",
   "metadata": {},
   "source": [
    "Dataset: Diabetes dataset from UCI Machine Learning Repository\n",
    "            -51 columns\n",
    "            -https://archive.ics.uci.edu/ml/datasets/Diabetes+130-US+hospitals+for+years+1999-2008\n",
    "\n",
    "Goal: To predict if diabete patients get readmitted to hospital or not\n",
    "\n",
    "Methods: Stacking, Classification Algorithms\n"
   ]
  },
  {
   "cell_type": "markdown",
   "metadata": {},
   "source": [
    "Steps when analyzing datasets:\n",
    "    1. Explore dataset\n",
    "    2. Clean data\n",
    "    3. Separate data into train, test sets\n",
    "    3. Format data to run it using built in algorithms\n",
    "    4. Interpret Results"
   ]
  },
  {
   "cell_type": "markdown",
   "metadata": {},
   "source": [
    "# Motivation: "
   ]
  },
  {
   "cell_type": "markdown",
   "metadata": {},
   "source": [
    "# Data Exploration:\n",
    "\n",
    "Questions to consider:\n",
    "\n",
    "What are the predictors and the response?\n",
    "    -response: readmitted\n",
    "    -predictors: 50 variables\n",
    "What are some factors that we think are important?\n",
    "    -race, gender, weight, number_diagnosis, number_inpatient\n",
    "What are the type of inputs?\n",
    "    -numbers, strings\n",
    "Any missing values?\n",
    "    -Yes\n",
    "How should we treat the missing values?\n",
    "\n",
    "   \n"
   ]
  },
  {
   "cell_type": "markdown",
   "metadata": {},
   "source": [
    "# Clean Data:\n",
    "\n",
    "1. Remove the missing values\n",
    "2. Drop columns \n",
    "     -especially for vairables that had over 50% missing values\n",
    "3. Convert to numerical values\n",
    "    -use pd.get_dummies()\n",
    "4. Make a clean dataset to work with"
   ]
  },
  {
   "cell_type": "markdown",
   "metadata": {},
   "source": [
    "# Separate data into train, test sets:\n",
    "\n",
    "train_test_split() function from sklearn.model_selection\n",
    "\n",
    "train dataset contains 80% of data\n",
    "test dataset contains 20% of data"
   ]
  },
  {
   "cell_type": "markdown",
   "metadata": {},
   "source": [
    "# Choose Models\n",
    "\n",
    "Why did we choose these models???\n",
    "\n",
    "\n",
    "\n",
    "RandomForestClassifier\n",
    "ExtraTreesClassifier\n",
    "AdaBoostClassifier\n",
    "GradientBoostingClassifier\n",
    "SVC"
   ]
  },
  {
   "cell_type": "markdown",
   "metadata": {},
   "source": [
    "# Format data to run it using built in algorithms\n",
    "\n"
   ]
  },
  {
   "cell_type": "code",
   "execution_count": null,
   "metadata": {
    "collapsed": true
   },
   "outputs": [],
   "source": []
  },
  {
   "cell_type": "markdown",
   "metadata": {},
   "source": [
    "References:\n"
   ]
  }
 ],
 "metadata": {
  "kernelspec": {
   "display_name": "Python 3",
   "language": "python",
   "name": "python3"
  },
  "language_info": {
   "codemirror_mode": {
    "name": "ipython",
    "version": 3
   },
   "file_extension": ".py",
   "mimetype": "text/x-python",
   "name": "python",
   "nbconvert_exporter": "python",
   "pygments_lexer": "ipython3",
   "version": "3.6.3"
  }
 },
 "nbformat": 4,
 "nbformat_minor": 2
}
